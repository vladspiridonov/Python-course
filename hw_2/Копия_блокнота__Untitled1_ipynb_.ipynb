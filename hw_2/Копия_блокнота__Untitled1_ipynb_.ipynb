{
  "nbformat": 4,
  "nbformat_minor": 0,
  "metadata": {
    "colab": {
      "provenance": []
    },
    "kernelspec": {
      "name": "python3",
      "display_name": "Python 3"
    },
    "language_info": {
      "name": "python"
    }
  },
  "cells": [
    {
      "cell_type": "code",
      "execution_count": null,
      "metadata": {
        "colab": {
          "base_uri": "https://localhost:8080/"
        },
        "id": "oBtwndhXf_wb",
        "outputId": "6338f829-2861-4b7e-ebee-2cf217f1043c"
      },
      "outputs": [
        {
          "output_type": "stream",
          "name": "stdout",
          "text": [
            "mars:\n",
            "Шоколадный батончик, добавка: цемент\n",
            "Шоколадный батончик, 122 рубля\n",
            "communarka:\n",
            "Обычный шоколадный батончик\n",
            "Шоколадный батончик, 35 рублей\n"
          ]
        }
      ],
      "source": [
        "class Chocolate:\n",
        "  def __init__(self,cost,add=None):\n",
        "      self.cost=cost\n",
        "      self.add=add\n",
        "      if self.cost<0:\n",
        "          raise ValueError('cost is negative')\n",
        "\n",
        "\n",
        "  def show_my_chocolate(self):\n",
        "       if self.add==None:\n",
        "          print('Обычный шоколадный батончик')\n",
        "       else:\n",
        "          print(f'Шоколадный батончик, добавка: {self.add}')\n",
        "\n",
        "  def __str__(self):\n",
        "    if self.cost % 10==1:\n",
        "      end = 'бль'\n",
        "    elif self.cost % 10==2 or self.cost % 10==3 or self.cost % 10==4:\n",
        "      end = 'бля'\n",
        "    else:\n",
        "      end = 'блей'\n",
        "    return f'Шоколадный батончик, {self.cost} ру{end}'\n",
        "#print('nuts:')\n",
        "#nuts = Chocolate(-101)\n",
        "print('mars:')\n",
        "mars = Chocolate(122,'цемент')\n",
        "mars.show_my_chocolate()\n",
        "print(mars)\n",
        "print('communarka:')\n",
        "communarka=Chocolate(35)\n",
        "communarka.show_my_chocolate()\n",
        "print(communarka)"
      ]
    }
  ]
}